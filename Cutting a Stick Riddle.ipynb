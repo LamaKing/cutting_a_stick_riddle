{
 "cells": [
  {
   "cell_type": "markdown",
   "metadata": {},
   "source": [
    "# Cutting a Stick Riddle\n",
    "\n",
    "Given a stick of length $L$, cut it at will in two parts. \n",
    "Measure the ratio between the shorter and the longer parts.\n",
    "Repeat the procedure, cutting it at random each time.\n",
    "What is the expected value of the ratio?"
   ]
  },
  {
   "cell_type": "markdown",
   "metadata": {},
   "source": [
    "## Brute force solution\n",
    "\n",
    "Well, since this is a Notebook and we have the CPU power to aid us, let us first solve it very easily by literally repeating the experiment $N$ times, computing the ratio $\\rho=L_\\mathrm{short}/L_\\mathrm{long}$ and taking the average $s=\\sum \\rho_i / N$.\n",
    "\n",
    "It is useful to notice that $L_\\mathrm{short} = L-L_\\mathrm{long}$.\n",
    "\n",
    "For fun let's solve it in a single line of code with $N=10000$:"
   ]
  },
  {
   "cell_type": "code",
   "execution_count": 2,
   "metadata": {},
   "outputs": [
    {
     "data": {
      "text/plain": [
       "'0.3862'"
      ]
     },
     "execution_count": 2,
     "metadata": {},
     "output_type": "execute_result"
    }
   ],
   "source": [
    "from numpy import random\n",
    "\"%.4f\" % (np.sum([min(1-rnd, rnd)/max(1-rnd,rnd) for rnd in random.rand(10000)])/10000)"
   ]
  },
  {
   "cell_type": "markdown",
   "metadata": {},
   "source": [
    "## Analytical treatment\n",
    "\n",
    "Now, for a little more sophisticated solution.\n",
    "\n",
    "Let $x=L_\\mathrm{long}$ be the random variable of the problem. \n",
    "The ratio is $\\rho(x) = \\frac{1-x}{x}$.\n",
    "Since the long side is the independent varible, the function is defined in the interval $\\rho: x \\in [1/2,1] \\to [0,1]$.\n",
    "The problem states that we cut at random, so each point in the interval $[0,L]$ has the same probability of being picked, i.e. the probability distribution from wich $x$ is drawn is constant $p(x)=1/\\mu(x)=2$, where $\\mu(x)=1/2$  is the measure of the domain of $x$.\n",
    "\n",
    "We now have all the ingredients to get the expectation value:\n",
    "\\begin{align}\n",
    "    \\langle \\rho \\rangle &= \\int_{1/2}^{1} \\rho(x) p(x) dx \\\\\n",
    "        &= 2 \\int_{1/2}^{1} \\frac{1-x}{x} dx \\\\\n",
    "        &= 2 \\log2 -1 \\approx 0.386\n",
    "\\end{align}"
   ]
  },
  {
   "cell_type": "markdown",
   "metadata": {},
   "source": [
    "We can check that computed and numberical solutions agree"
   ]
  },
  {
   "cell_type": "code",
   "execution_count": 9,
   "metadata": {},
   "outputs": [
    {
     "name": "stdout",
     "output_type": "stream",
     "text": [
      "Analytical solution 0.3863.\n",
      "Numerical estimation 0.3863.\n",
      "Relative difference -0.0062 %\n",
      "Done in 120s (2.00min)\n"
     ]
    }
   ],
   "source": [
    "from time import time\n",
    "avg_anal = 2*log(2)-1\n",
    "N = int(1e8) # Sample size for the estimator. Don't go too big, already a 100mil take two min.\n",
    "t0 = time()\n",
    "avg_estimator = np.sum([min(1-rnd, rnd)/max(1-rnd,rnd) for rnd in random.rand(N)])/N\n",
    "print(\"Analytical solution %.4f.\" % avg_anal)\n",
    "print(\"Numerical estimation %.4f.\" % avg_estimator)\n",
    "print(\"Relative difference %.2g %%\" % (100*(avg_anal-avg_estimator)/avg_anal))\n",
    "t1 = time()\n",
    "print(\"Done in %is (%.2fmin)\" %(t1-t0,(t1-t0)/60))"
   ]
  }
 ],
 "metadata": {
  "kernelspec": {
   "display_name": "Python 3",
   "language": "python",
   "name": "python3"
  },
  "language_info": {
   "codemirror_mode": {
    "name": "ipython",
    "version": 3
   },
   "file_extension": ".py",
   "mimetype": "text/x-python",
   "name": "python",
   "nbconvert_exporter": "python",
   "pygments_lexer": "ipython3",
   "version": "3.7.3"
  }
 },
 "nbformat": 4,
 "nbformat_minor": 4
}
